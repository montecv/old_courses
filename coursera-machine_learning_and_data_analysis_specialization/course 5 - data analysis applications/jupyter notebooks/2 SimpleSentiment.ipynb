{
 "cells": [
  {
   "cell_type": "markdown",
   "metadata": {},
   "source": [
    "# Анализ тональности отзывов"
   ]
  },
  {
   "cell_type": "markdown",
   "metadata": {},
   "source": [
    "Сначала возьмем выборку отзывов на фильмы из NLTK. Получим ID-шники негативных и позитивных отзывов."
   ]
  },
  {
   "cell_type": "code",
   "execution_count": 2,
   "metadata": {},
   "outputs": [
    {
     "name": "stdout",
     "output_type": "stream",
     "text": [
      "[u'neg/cv000_29416.txt', u'neg/cv001_19502.txt', u'neg/cv002_17424.txt', u'neg/cv003_12683.txt', u'neg/cv004_12641.txt']\n"
     ]
    }
   ],
   "source": [
    "from nltk.corpus import movie_reviews\n",
    " \n",
    "negids = movie_reviews.fileids('neg')\n",
    "posids = movie_reviews.fileids('pos')\n",
    "\n",
    "print negids[:5]"
   ]
  },
  {
   "cell_type": "markdown",
   "metadata": {},
   "source": [
    "Приготовим список текстов и классов как обучающую выборку. Получаем слова из отзыва, но слова получаем в листе. Поэтому, так как дальше CountVectorizer из sklearn будет работать с текстами все же, мы их снова джойним через пробелы.  Здесь мы получаем список текстов и список ответов. 0 будем использовать для негативного класса, 1 — для позитивного."
   ]
  },
  {
   "cell_type": "code",
   "execution_count": 3,
   "metadata": {},
   "outputs": [],
   "source": [
    "negfeats = [\" \".join(movie_reviews.words(fileids=[f])) for f in negids]\n",
    "posfeats = [\" \".join(movie_reviews.words(fileids=[f])) for f in posids]\n",
    "\n",
    "texts = negfeats + posfeats\n",
    "labels = [0] * len(negfeats) + [1] * len(posfeats)"
   ]
  },
  {
   "cell_type": "code",
   "execution_count": 4,
   "metadata": {},
   "outputs": [
    {
     "name": "stdout",
     "output_type": "stream",
     "text": [
      "plot : two teen couples go to a church party , drink and then drive . they get into an accident . one of the guys dies , but his girlfriend continues to see him in her life , and has nightmares . what ' s the deal ? watch the movie and \" sorta \" find out . . . critique : a mind - fuck movie for the teen generation that touches on a very cool idea , but presents it in a very bad package . which is what makes this review an even harder one to write , since i generally applaud films which attempt to break the mold , mess with your head and such ( lost highway & memento ) , but there are good and bad ways of making all types of films , and these folks just didn ' t snag this one correctly . they seem to have taken this pretty neat concept , but executed it terribly . so what are the problems with the movie ? well , its main problem is that it ' s simply too jumbled . it starts off \" normal \" but then downshifts into this \" fantasy \" world in which you , as an audience member , have no idea what ' s going on . there are dreams , there are characters coming back from the dead , there are others who look like the dead , there are strange apparitions , there are disappearances , there are a looooot of chase scenes , there are tons of weird things that happen , and most of it is simply not explained . now i personally don ' t mind trying to unravel a film every now and then , but when all it does is give me the same clue over and over again , i get kind of fed up after a while , which is this film ' s biggest problem . it ' s obviously got this big secret to hide , but it seems to want to hide it completely until its final five minutes . and do they make things entertaining , thrilling or even engaging , in the meantime ? not really . the sad part is that the arrow and i both dig on flicks like this , so we actually figured most of it out by the half - way point , so all of the strangeness after that did start to make a little bit of sense , but it still didn ' t the make the film all that more entertaining . i guess the bottom line with movies like this is that you should always make sure that the audience is \" into it \" even before they are given the secret password to enter your world of understanding . i mean , showing melissa sagemiller running away from visions for about 20 minutes throughout the movie is just plain lazy ! ! okay , we get it . . . there are people chasing her and we don ' t know who they are . do we really need to see it over and over again ? how about giving us different scenes offering further insight into all of the strangeness going down in the movie ? apparently , the studio took this film away from its director and chopped it up themselves , and it shows . there might ' ve been a pretty decent teen mind - fuck movie in here somewhere , but i guess \" the suits \" decided that turning it into a music video with little edge , would make more sense . the actors are pretty good for the most part , although wes bentley just seemed to be playing the exact same character that he did in american beauty , only in a new neighborhood . but my biggest kudos go out to sagemiller , who holds her own throughout the entire film , and actually has you feeling her character ' s unraveling . overall , the film doesn ' t stick because it doesn ' t entertain , it ' s confusing , it rarely excites and it feels pretty redundant for most of its runtime , despite a pretty cool ending and explanation to all of the craziness that came before it . oh , and by the way , this is not a horror or teen slasher flick . . . it ' s just packaged to look that way because someone is apparently assuming that the genre is still hot with the kids . it also wrapped production two years ago and has been sitting on the shelves ever since . whatever . . . skip it ! where ' s joblo coming from ? a nightmare of elm street 3 ( 7 / 10 ) - blair witch 2 ( 7 / 10 ) - the crow ( 9 / 10 ) - the crow : salvation ( 4 / 10 ) - lost highway ( 10 / 10 ) - memento ( 10 / 10 ) - the others ( 9 / 10 ) - stir of echoes ( 8 / 10 )\n"
     ]
    }
   ],
   "source": [
    "print texts[0]"
   ]
  },
  {
   "cell_type": "markdown",
   "metadata": {},
   "source": [
    "Импортируем нужные модули: модули для построения признаков на текстах, разные классификаторы, линейные классификаторы, в частности линейный svm. Это модуль cross_validation для того, чтобы мы могли оценить качество, и модуль Pipeline, так будет несколько удобнее."
   ]
  },
  {
   "cell_type": "code",
   "execution_count": 5,
   "metadata": {
    "collapsed": true
   },
   "outputs": [],
   "source": [
    "from sklearn.feature_extraction.text import TfidfTransformer, CountVectorizer, TfidfVectorizer\n",
    "from sklearn.linear_model import LogisticRegression, SGDClassifier\n",
    "from sklearn.svm import LinearSVC\n",
    "from sklearn.cross_validation import cross_val_score\n",
    "from sklearn.pipeline import Pipeline"
   ]
  },
  {
   "cell_type": "markdown",
   "metadata": {},
   "source": [
    "### Оценка качества работы разных классификаторов"
   ]
  },
  {
   "cell_type": "markdown",
   "metadata": {},
   "source": [
    " Дальше мы пишем свою простенькую функцию, которая фактически возвращает Pipeline для текстовой классификации."
   ]
  },
  {
   "cell_type": "code",
   "execution_count": 6,
   "metadata": {
    "collapsed": true
   },
   "outputs": [],
   "source": [
    "def text_classifier(vectorizer, transformer, classifier):\n",
    "    return Pipeline(\n",
    "            [(\"vectorizer\", vectorizer),\n",
    "            (\"transformer\", transformer),\n",
    "            (\"classifier\", classifier)]\n",
    "        )"
   ]
  },
  {
   "cell_type": "markdown",
   "metadata": {},
   "source": [
    "Сравним разные классификаторы на этом датасете. Сначала у нас используется CountVectorizer, затем TfidfTransformer, то есть мы на основе частот подсчитываем Tfidf-ы. После этого используем классификатор — тот, до которого дошла очередь в цикле. Нам не обязательно было разносить CountVectorizer и TfidfTransformer. Мы могли бы сразу использовать TfidfVectorizer, он тоже есть в sklearn. Но в таком виде будет несколько удобнее, если мы захотим здесь вместо TfidfTransformer использовать какой-то другой, ну например, как-нибудь понижать размерность."
   ]
  },
  {
   "cell_type": "code",
   "execution_count": 7,
   "metadata": {},
   "outputs": [
    {
     "name": "stdout",
     "output_type": "stream",
     "text": [
      "<class 'sklearn.linear_model.logistic.LogisticRegression'>\n",
      "0.813511115906\n",
      "\n",
      "\n",
      "<class 'sklearn.svm.classes.LinearSVC'>\n",
      "0.845507183831\n",
      "\n",
      "\n",
      "<class 'sklearn.linear_model.stochastic_gradient.SGDClassifier'>\n",
      "0.840010669352\n",
      "\n",
      "\n"
     ]
    }
   ],
   "source": [
    "for clf in [LogisticRegression, LinearSVC, SGDClassifier]:\n",
    "    print clf\n",
    "    print cross_val_score(text_classifier(CountVectorizer(), TfidfTransformer(), clf()), texts, labels).mean()\n",
    "    print \"\\n\""
   ]
  },
  {
   "cell_type": "markdown",
   "metadata": {},
   "source": [
    "### Подготовка классификатора, обученного на всех данных"
   ]
  },
  {
   "cell_type": "markdown",
   "metadata": {},
   "source": [
    "Создаем pipeline из Vectorizer и Classifier. Сразу будем использовать TfidfVectorizer. Остается обучить."
   ]
  },
  {
   "cell_type": "code",
   "execution_count": 8,
   "metadata": {},
   "outputs": [
    {
     "name": "stdout",
     "output_type": "stream",
     "text": [
      "Pipeline(steps=[('vectorizer', TfidfVectorizer(analyzer=u'word', binary=False, decode_error=u'strict',\n",
      "        dtype=<type 'numpy.int64'>, encoding=u'utf-8', input=u'content',\n",
      "        lowercase=True, max_df=1.0, max_features=None, min_df=1,\n",
      "        ngram_range=(1, 1), norm=u'l2', preprocessor=None, smooth_id...ax_iter=1000,\n",
      "     multi_class='ovr', penalty='l2', random_state=None, tol=0.0001,\n",
      "     verbose=0))])\n"
     ]
    }
   ],
   "source": [
    "clf_pipeline = Pipeline(\n",
    "            [(\"vectorizer\", TfidfVectorizer()),\n",
    "            (\"classifier\", LinearSVC())]\n",
    "        )\n",
    "\n",
    "\n",
    "clf_pipeline.fit(texts, labels)\n",
    "\n",
    "print clf_pipeline"
   ]
  },
  {
   "cell_type": "markdown",
   "metadata": {},
   "source": [
    " Ну и можно как-то его потестировать, например, поиграться с разными отзывами. Ну вот здесь вот были придуманы пара достаточно простых отзывов, они действительно очень ярко позитивные и негативные. Первый — позитивный, второй — негативный. Ну и как вы видите, результаты на них как раз такие, какие следовало ожидать. Но не стоит обольщаться: если получается придумать несколько хороших примеров, это отнюдь не значит, что классификатор хорош. Нужно всегда смотреть на качество."
   ]
  },
  {
   "cell_type": "code",
   "execution_count": 9,
   "metadata": {},
   "outputs": [
    {
     "name": "stdout",
     "output_type": "stream",
     "text": [
      "[1 0]\n"
     ]
    }
   ],
   "source": [
    "print clf_pipeline.predict([\"Amazing film! I will advice it to all my friends. Genious\",\n",
    "                           \"Awful film! The man who advised me to watch it is really crazy idiot.\"])"
   ]
  },
  {
   "cell_type": "markdown",
   "metadata": {},
   "source": [
    "\n",
    "\n",
    "\n",
    "\n",
    "\n",
    "\n",
    "\n",
    "\n",
    "\n",
    "\n",
    "\n",
    "\n",
    "\n"
   ]
  },
  {
   "cell_type": "markdown",
   "metadata": {},
   "source": [
    "## Понижение размерности и ансамбли деревьев"
   ]
  },
  {
   "cell_type": "markdown",
   "metadata": {},
   "source": [
    "Попробуем доработать наш простой baseline, добавив некоторое преобразование признаков, попробовав встроить ансамбли деревьев. Для начала попробуем применить какие-нибудь матричные разложения. Попробуем посмотреть на качество и SVD, и NMF. Мы, как и ранее, делаем pipeline для текстовой классификации. Сначала получаем частоты слов, затем выполняем преобразования. Раньше это было TF-IDF-преобразование, теперь это SVD и NMF. И опять же берем всего десять компонент и на этом строим линейный SVM. Как вы видите, результаты не очень впечатляют. Они существенно ниже, чем те результаты, которые у нас были ранее. Ну, кстати, вот у NMF немножко получше. И здесь можно предположить, что что-то мы делаем неправильно. Можно попробовать сделать больше компонент. Давайте выставим количество компонент, равным тысяче, и посмотрим на результат. Вот результат уже здесь есть. И как вы помните, примерно такой результат был и у исходного baseline. То есть у нас получилось сделать такое преобразование, которое по крайней мере не испортило наш классификатор. Как правило, если преобразование признаков с помощью матричных разложений действительно позволяет как-то поднять качество, то количество компонент должно быть не таким большим, чтобы качество было совсем такое же, как изначально, и не таким маленьким, чтобы качество уже начало «проседать». Но в то же время, далеко не всегда такое количество компонент есть. Не всегда с помощью матричных разложений можно действительно улучшить качество. И не стоит в этом месте поддаваться иллюзиям, что если сделать что-то «умное» с признаками, то обязательно это поможет и повысит качество. С другой стороны, понизив размерность пространства признаков, мы можем построить более сложные классификаторы. Например, композиции деревьев. Ну, давайте попробуем посмотреть, что получается с RandomForest. Опять-таки мы считаем частоты, дальше делаем SVD-преобразование и затем запускаем обучение RandomForest. И как вы видите, результаты тоже достаточно плачевные. Конечно, это лучше, чем то, что мы видели до этого на десяти компонентах. Но здесь и компонент побольше, и как вы видите, лучше не стало. Можно предположить, что дело в количестве компонент. Надо сделать побольше компонент. Но оказывается, что больше компонент не всегда хорошо. Смотрите, сделали мы 1000 компонент, сделали и деревьев чуть побольше, и качество у нас еще дополнительно просело, то есть так тоже бывает. Ну, можно предположить, что проблема в том, что мы используем частоты слов, а если мы будем использовать, например, TF-IDF, получится более удачный классификатор. Это предположение в какой-то степени оправдывается, но, конечно, это, скорее, шутливый результат. Мы действительно чуть-чуть улучшили качество, но оно по-прежнему совершенно неприемлемое. Можно предположить, если не получается построить хороший классификатор на признаках, которые получаются после SVD-разложения, то, может быть, можно совместить эти признаки с теми признаками, которые были до этого. И уж тогда, по крайней мере, должно получиться не хуже. Ну, давайте посмотрим, что получается из этого. Давайте добавим просто одну компоненту из SVD-разложения. Мы воспользуемся FeatureUnion из sklearn.pipeline, которая позволит нам совместить эти преобразования и получать единое множество признаков. И вот давайте опять оценим качество. И, как вы видите, качество получается тоже не очень хорошее. Уж по крайней мере заметно ниже, чем без добавления одной компоненты из SVD. Таким образом, как вы видите наш baseline был действительно не так уж плох. И просто поделать какие-то логичные, какие-то достаточно сложные, с точки зрения математики, которая стоит за ними, вещи и поднять качество, довольно затруднительно."
   ]
  },
  {
   "cell_type": "code",
   "execution_count": null,
   "metadata": {},
   "outputs": [],
   "source": []
  },
  {
   "cell_type": "code",
   "execution_count": 23,
   "metadata": {},
   "outputs": [
    {
     "name": "stdout",
     "output_type": "stream",
     "text": [
      "CPU times: user 1.77 s, sys: 0 ns, total: 1.77 s\n",
      "Wall time: 1.77 s\n"
     ]
    }
   ],
   "source": [
    "%%time\n",
    "from sklearn.decomposition import NMF, TruncatedSVD\n",
    "\n",
    "v = CountVectorizer()\n",
    "mx = v.fit_transform(texts)\n",
    "mf = TruncatedSVD(10)\n",
    "u = mf.fit_transform(mx)"
   ]
  },
  {
   "cell_type": "code",
   "execution_count": 22,
   "metadata": {},
   "outputs": [
    {
     "name": "stdout",
     "output_type": "stream",
     "text": [
      "<class 'sklearn.decomposition.truncated_svd.TruncatedSVD'>\n",
      "0.569963676251\n",
      "\n",
      "\n",
      "<class 'sklearn.decomposition.nmf.NMF'>\n",
      "0.650514286742\n",
      "\n",
      "\n"
     ]
    }
   ],
   "source": [
    "for transform in [TruncatedSVD, NMF]:\n",
    "    print transform\n",
    "    print cross_val_score(text_classifier(CountVectorizer(), transform(n_components=10), LinearSVC()), texts, labels).mean()\n",
    "    print \"\\n\"\n"
   ]
  },
  {
   "cell_type": "markdown",
   "metadata": {},
   "source": [
    "\n",
    "\n",
    "\n",
    "Если задать n_components=1000:"
   ]
  },
  {
   "cell_type": "code",
   "execution_count": 12,
   "metadata": {},
   "outputs": [
    {
     "name": "stdout",
     "output_type": "stream",
     "text": [
      "0.842014169858\n",
      "CPU times: user 3min 11s, sys: 13.5 s, total: 3min 25s\n",
      "Wall time: 2min 24s\n"
     ]
    }
   ],
   "source": [
    "%%time\n",
    "print cross_val_score(text_classifier(TfidfVectorizer(), TruncatedSVD(n_components=1000), LinearSVC()),\n",
    "                      texts, \n",
    "                      labels\n",
    "                     ).mean()"
   ]
  },
  {
   "cell_type": "markdown",
   "metadata": {},
   "source": [
    "## Ансамбли деревьев на преобразованных признаках"
   ]
  },
  {
   "cell_type": "code",
   "execution_count": 14,
   "metadata": {
    "collapsed": true
   },
   "outputs": [],
   "source": [
    "from sklearn.ensemble import RandomForestClassifier, GradientBoostingClassifier"
   ]
  },
  {
   "cell_type": "code",
   "execution_count": 15,
   "metadata": {},
   "outputs": [
    {
     "name": "stdout",
     "output_type": "stream",
     "text": [
      "[ 0.70209581  0.71621622  0.69069069]\n",
      "CPU times: user 13.9 s, sys: 600 ms, total: 14.5 s\n",
      "Wall time: 14.3 s\n"
     ]
    }
   ],
   "source": [
    "%%time\n",
    "print cross_val_score(\n",
    "    Pipeline([\n",
    "            (\"vectorizer\", CountVectorizer()),\n",
    "            (\"transformer\", TruncatedSVD(100)),\n",
    "            (\"classifier\", RandomForestClassifier(100))\n",
    "        ]),\n",
    "    texts,\n",
    "    labels\n",
    "    )"
   ]
  },
  {
   "cell_type": "markdown",
   "metadata": {},
   "source": [
    "Больше компонент и больше деревьев:"
   ]
  },
  {
   "cell_type": "code",
   "execution_count": 19,
   "metadata": {},
   "outputs": [
    {
     "name": "stdout",
     "output_type": "stream",
     "text": [
      "0.561485137832\n",
      "CPU times: user 4min 43s, sys: 13.6 s, total: 4min 57s\n",
      "Wall time: 3min 56s\n"
     ]
    }
   ],
   "source": [
    "%%time\n",
    "print cross_val_score(text_classifier(CountVectorizer(), TruncatedSVD(n_components=1000), RandomForestClassifier(1000)),\n",
    "                      texts, \n",
    "                      labels\n",
    "                     ).mean()"
   ]
  },
  {
   "cell_type": "markdown",
   "metadata": {},
   "source": [
    "Tf*Idf вместо частот слов:"
   ]
  },
  {
   "cell_type": "code",
   "execution_count": 18,
   "metadata": {},
   "outputs": [
    {
     "name": "stdout",
     "output_type": "stream",
     "text": [
      "0.590001678325\n",
      "CPU times: user 4min 39s, sys: 14.3 s, total: 4min 53s\n",
      "Wall time: 3min 52s\n"
     ]
    }
   ],
   "source": [
    "%%time\n",
    "print cross_val_score(text_classifier(TfidfVectorizer(), TruncatedSVD(n_components=1000), RandomForestClassifier(1000)),\n",
    "                      texts, \n",
    "                      labels\n",
    "                     ).mean()"
   ]
  },
  {
   "cell_type": "markdown",
   "metadata": {},
   "source": [
    "## Совмещаем Tf*Idf и SVD"
   ]
  },
  {
   "cell_type": "code",
   "execution_count": 16,
   "metadata": {},
   "outputs": [],
   "source": [
    "from sklearn.pipeline import FeatureUnion\n",
    "\n",
    "estimators = [('tfidf', TfidfTransformer()), ('svd', TruncatedSVD(1))]\n",
    "combined = FeatureUnion(estimators)"
   ]
  },
  {
   "cell_type": "code",
   "execution_count": 17,
   "metadata": {},
   "outputs": [
    {
     "name": "stdout",
     "output_type": "stream",
     "text": [
      "[ 0.74251497  0.78978979  0.62912913]\n",
      "CPU times: user 10.7 s, sys: 24 ms, total: 10.7 s\n",
      "Wall time: 10.7 s\n"
     ]
    }
   ],
   "source": [
    "%%time\n",
    "print cross_val_score(\n",
    "    Pipeline([\n",
    "            (\"vectorizer\", CountVectorizer()),\n",
    "            (\"transformer\", combined),\n",
    "            (\"classifier\", LinearSVC())\n",
    "        ]),\n",
    "    texts,\n",
    "    labels\n",
    "    )"
   ]
  }
 ],
 "metadata": {
  "kernelspec": {
   "display_name": "Python 3",
   "language": "python",
   "name": "python3"
  },
  "language_info": {
   "codemirror_mode": {
    "name": "ipython",
    "version": 3
   },
   "file_extension": ".py",
   "mimetype": "text/x-python",
   "name": "python",
   "nbconvert_exporter": "python",
   "pygments_lexer": "ipython3",
   "version": "3.6.5"
  }
 },
 "nbformat": 4,
 "nbformat_minor": 1
}
